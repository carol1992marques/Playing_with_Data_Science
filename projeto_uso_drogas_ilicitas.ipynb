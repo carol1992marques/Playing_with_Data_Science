{
 "cells": [
  {
   "cell_type": "markdown",
   "metadata": {},
   "source": [
    "# Uso de drogas ilícitas por alunos da rede nacional\n",
    "\n",
    "#### Autor: Caroline Santos Marques da Silva"
   ]
  },
  {
   "cell_type": "markdown",
   "metadata": {},
   "source": [
    "## Introdução"
   ]
  },
  {
   "cell_type": "markdown",
   "metadata": {},
   "source": [
    "O uso de drogas ilícitas por jovens é uma questão de saúde pública com relevantes consequências para a sociedade. Inúmeros jovens perdem a oportunidade de desenvolvimento profissional devido ao uso de drogas e por vezes, embarcam na criminalidade. Com isso, a sociedade perde profissionais capacitados que poderiam compor um país economicamente forte e com maior qualidade de vida. Por isso, ações preventivas para reduzir a incidência de jovens no mundo das drogas é relevante."
   ]
  },
  {
   "cell_type": "markdown",
   "metadata": {},
   "source": [
    "## Objetivo\n",
    "\n",
    "O objetivo do presente estudo é desenvolver um modelo preditivo para identificar os alunos que farão o uso de drogas ilícitas. Assim, ações preventivas podem ser determinadas para diminuir o consumo de drogas por alunos."
   ]
  },
  {
   "cell_type": "markdown",
   "metadata": {},
   "source": [
    "## Metodologia"
   ]
  },
  {
   "cell_type": "markdown",
   "metadata": {},
   "source": [
    "O primeiro passo para atingir o objetivo desse relatório é filtrar da base de dados os alunos que afirmaram o contato com drogas ilícitas. Após essa filtragem, podemos verificar o perfil dos alunos usuários de drogas e, assim, determinar similaridade e diferenças entre eles. Todos esses tópicos são feitos utilizando a análise e exploração de dados com a biblioteca pandas da linguagem python.\n"
   ]
  },
  {
   "cell_type": "code",
   "execution_count": 1,
   "metadata": {},
   "outputs": [],
   "source": [
    "##Bibliotecas \n",
    "import numpy as np\n",
    "import pandas as pd\n",
    "import matplotlib as plt\n",
    "from collections import Counter\n"
   ]
  },
  {
   "cell_type": "code",
   "execution_count": 2,
   "metadata": {},
   "outputs": [],
   "source": [
    "dados_alunos = pd.read_csv(\"arquivos_csv/PENSE_AMOSTRA1_ALUNO.CSV\",sep=';')\n",
    "dados_alunos.head(10)\n",
    "total_de_alunos = dados_alunos.shape[0]"
   ]
  },
  {
   "cell_type": "code",
   "execution_count": 3,
   "metadata": {},
   "outputs": [],
   "source": [
    "selecao = dados_alunos['VB06001'] == 1\n",
    "selecao2 = dados_alunos['VB06001'] == 2\n",
    "alunos_usuarios = dados_alunos[selecao]\n",
    "alunos_nao_usuarios=dados_alunos[selecao2]\n",
    "num_alunos_usuarios = alunos_usuarios.shape[0]\n",
    "num_alunos_nao_usuarios = alunos_nao_usuarios.shape[0]"
   ]
  },
  {
   "cell_type": "code",
   "execution_count": 4,
   "metadata": {},
   "outputs": [
    {
     "name": "stdout",
     "output_type": "stream",
     "text": [
      "Porcentagem de alunos que utilizaram drogas é de 8.48\n",
      "Porcentagem de alunos que não utilizaram drogas é de 91.25\n"
     ]
    }
   ],
   "source": [
    "porcentagem_de_alunos_usuarios = (num_alunos_usuarios/total_de_alunos)*100\n",
    "porcentagem_de_alunos_nao_usuarios = (num_alunos_nao_usuarios/total_de_alunos)*100\n",
    "\n",
    "print(\"Porcentagem de alunos que utilizaram drogas é de {:.2f}\".format(porcentagem_de_alunos_usuarios))\n",
    "print(\"Porcentagem de alunos que não utilizaram drogas é de {:.2f}\".format(porcentagem_de_alunos_nao_usuarios))\n"
   ]
  },
  {
   "cell_type": "markdown",
   "metadata": {},
   "source": [
    "De posse dos alunos usuários de drogas, precisamos conhecer estes alunos, ou seja, explicitar as similaridades entre eles e, assim definir um grupo alvo de alunos propícios ao uso de drogas ilícitas."
   ]
  },
  {
   "cell_type": "markdown",
   "metadata": {},
   "source": [
    "### Perfil dos alunos usuários de drogas"
   ]
  },
  {
   "cell_type": "markdown",
   "metadata": {},
   "source": [
    "A partir da base de dados foram selecionadas perguntas que possivelmente podem ter conexão com uso de drogas pelos alunos. Essas perguntas são:\n",
    "\n",
    "- A ausência materna ou paterna influenciam?\n",
    "- Estuda em regime integral?\n",
    "- Consumo de cigarro ?\n",
    "- Consumo de bebidas alcoolicas?\n",
    "\n",
    "\n",
    "Assim, antes de gerar o modelo com base nessas perguntas, uma análise dos dados é feita para verificar a relevância dessas perguntas com o estudo.\n"
   ]
  },
  {
   "cell_type": "markdown",
   "metadata": {},
   "source": [
    "## Ausência de paterna ou materna"
   ]
  },
  {
   "cell_type": "code",
   "execution_count": 5,
   "metadata": {},
   "outputs": [],
   "source": [
    "\n",
    "## 1 - ALUNOS USUARIOS\n",
    "\n",
    "mae_ausente = (alunos_usuarios['VB01006'] == 2) \n",
    "pai_ausente = (alunos_usuarios['VB01007'] == 2)\n",
    "pai_e_mae_ausente = (alunos_usuarios['VB01006'] == 2) & (alunos_usuarios['VB01007'] == 2)\n",
    "num_pai_e_mae_ausente = alunos_usuarios[pai_e_mae_ausente].shape[0]\n",
    "num_mae_ausente = alunos_usuarios[mae_ausente].shape[0] - num_pai_e_mae_ausente\n",
    "num_pai_ausente = alunos_usuarios[pai_ausente].shape[0] - num_pai_e_mae_ausente\n",
    "\n",
    "## 2 - ALUNOS NAO USUARIOS\n",
    "\n",
    "mae_ausente2 = (alunos_nao_usuarios['VB01006'] == 2) \n",
    "pai_ausente2 = (alunos_nao_usuarios['VB01007'] == 2)\n",
    "pai_e_mae_ausente2 = (alunos_nao_usuarios['VB01006'] == 2) & (alunos_nao_usuarios['VB01007'] == 2)\n",
    "num_pai_e_mae_ausente2 = alunos_nao_usuarios[pai_e_mae_ausente2].shape[0]\n",
    "num_mae_ausente2 = alunos_nao_usuarios[mae_ausente2].shape[0] - num_pai_e_mae_ausente2\n",
    "num_pai_ausente2 = alunos_nao_usuarios[pai_ausente2].shape[0] - num_pai_e_mae_ausente2\n",
    "\n"
   ]
  },
  {
   "cell_type": "code",
   "execution_count": 6,
   "metadata": {},
   "outputs": [
    {
     "name": "stdout",
     "output_type": "stream",
     "text": [
      "Porcentagem de alunos usuarios que não moram com o pai 38.71\n",
      "Porcentagem de alunos usuarios que não moram com a mae 7.28\n",
      "Porcentagem de alunos não usuarios que não moram com o pai 30.38\n",
      "Porcentagem de alunos não usuarios que não moram com a mae 4.59\n"
     ]
    }
   ],
   "source": [
    "porcentagem_pai = (num_pai_ausente/num_alunos_usuarios)*100\n",
    "porcentagem_mae = (num_mae_ausente/num_alunos_usuarios)*100\n",
    "print(\"Porcentagem de alunos usuarios que não moram com o pai {:.2f}\".format(porcentagem_pai))\n",
    "print(\"Porcentagem de alunos usuarios que não moram com a mae {:.2f}\".format(porcentagem_mae))\n",
    "porcentagem_pai2 = (num_pai_ausente2/num_alunos_nao_usuarios)*100\n",
    "porcentagem_mae2 = (num_mae_ausente2/num_alunos_nao_usuarios)*100\n",
    "print(\"Porcentagem de alunos não usuarios que não moram com o pai {:.2f}\".format(porcentagem_pai2))\n",
    "print(\"Porcentagem de alunos não usuarios que não moram com a mae {:.2f}\".format(porcentagem_mae2))"
   ]
  },
  {
   "cell_type": "markdown",
   "metadata": {},
   "source": [
    "Embora, tenha-se obtido resultados próximos, a ausência paterna ou materna é maior em alunos que usam drogas. Portanto, essa questão é relevante para a nossa análise. "
   ]
  },
  {
   "cell_type": "markdown",
   "metadata": {},
   "source": [
    "## Estuda em regime integral"
   ]
  },
  {
   "cell_type": "code",
   "execution_count": 7,
   "metadata": {},
   "outputs": [
    {
     "name": "stdout",
     "output_type": "stream",
     "text": [
      "Porcentagem de alunos usuários que estudam integralmente 22.03\n",
      "Porcentagem de alunos não usuários que estudam integralmente 22.41\n"
     ]
    }
   ],
   "source": [
    "## 1 - Alunos usuários\n",
    "\n",
    "estuda_integral = alunos_usuarios['VB01023'] == 1\n",
    "num_alunos_usuarios_integral = alunos_usuarios[estuda_integral].shape[0]\n",
    "\n",
    "## 2 - Alunos não usuários\n",
    "\n",
    "estuda_integral2 = alunos_nao_usuarios['VB01023'] == 1\n",
    "num_alunos_nao_usuarios_integral = alunos_nao_usuarios[estuda_integral2].shape[0]\n",
    "\n",
    "porcentagem_int1 = (num_alunos_usuarios_integral/num_alunos_usuarios)*100\n",
    "porcentagem_int2 = (num_alunos_nao_usuarios_integral/num_alunos_nao_usuarios)*100\n",
    "\n",
    "print(\"Porcentagem de alunos usuários que estudam integralmente {:.2f}\".format(porcentagem_int1))\n",
    "print(\"Porcentagem de alunos não usuários que estudam integralmente {:.2f}\".format(porcentagem_int2))\n",
    "\n"
   ]
  },
  {
   "cell_type": "markdown",
   "metadata": {},
   "source": [
    "Percebe-se que a proporção de alunos usuários que não estudam integralmente é a mesma de alunos não usuários que  não estudam integralmente, logo essa característica não apresenta relevância estatística quando analisada isolada, porém quando associada a outras características, a mesma pode vir a ter relevância estatística. Por isso, considera-se esta pergunta para o desenvolvimento do modelo."
   ]
  },
  {
   "cell_type": "markdown",
   "metadata": {},
   "source": [
    "## Consumo de Cigarros "
   ]
  },
  {
   "cell_type": "code",
   "execution_count": 8,
   "metadata": {},
   "outputs": [
    {
     "name": "stdout",
     "output_type": "stream",
     "text": [
      "Porcentagem de alunos usuarios que já experimentaram cigarro 80.04\n",
      "Porcentagem de alunos não usuarios que já experimentaram cigarro 12.60\n"
     ]
    }
   ],
   "source": [
    "## 1 - Alunos usuários\n",
    "\n",
    "cigarro = alunos_usuarios['VB04001'] == 1\n",
    "num_alunos_usuarios_cigarro = alunos_usuarios[cigarro].shape[0]\n",
    "\n",
    "## 2 - Alunos não usuários\n",
    "\n",
    "cigarro2 = alunos_nao_usuarios['VB04001'] == 1\n",
    "num_alunos_nao_usuarios_cigarro = alunos_nao_usuarios[cigarro2].shape[0]\n",
    "\n",
    "porcentagem_int1 = (num_alunos_usuarios_cigarro/num_alunos_usuarios)*100\n",
    "porcentagem_int2 = (num_alunos_nao_usuarios_cigarro/num_alunos_nao_usuarios)*100\n",
    "\n",
    "print(\"Porcentagem de alunos usuarios que já experimentaram cigarro {:.2f}\".format(porcentagem_int1))\n",
    "print(\"Porcentagem de alunos não usuarios que já experimentaram cigarro {:.2f}\".format(porcentagem_int2))"
   ]
  },
  {
   "cell_type": "markdown",
   "metadata": {},
   "source": [
    "Percebe-se que o consumo de cigarro é relevante para determinar o grupo alvo, por isso, consideramos essa questão para gerar o modelo."
   ]
  },
  {
   "cell_type": "markdown",
   "metadata": {},
   "source": [
    "## Consumo de bebidas alcoolicas"
   ]
  },
  {
   "cell_type": "code",
   "execution_count": 9,
   "metadata": {},
   "outputs": [
    {
     "name": "stdout",
     "output_type": "stream",
     "text": [
      "Porcentagem de alunos usuarios que já experimentaram bebidas alcoólicas 94.58\n",
      "Porcentagem de alunos não usuarios que já experimentaram bebidas alcoólicas 47.71\n"
     ]
    }
   ],
   "source": [
    "## 1 - Alunos usuários\n",
    "\n",
    "alcool = alunos_usuarios['VB05002'] == 1\n",
    "num_alunos_usuarios_alcool = alunos_usuarios[alcool].shape[0]\n",
    "\n",
    "## 2 - Alunos não usuários\n",
    "\n",
    "alcool2 = alunos_nao_usuarios['VB05002'] == 1\n",
    "num_alunos_nao_usuarios_alcool = alunos_nao_usuarios[alcool2].shape[0]\n",
    "\n",
    "porcentagem_int1 = (num_alunos_usuarios_alcool/num_alunos_usuarios)*100\n",
    "porcentagem_int2 = (num_alunos_nao_usuarios_alcool/num_alunos_nao_usuarios)*100\n",
    "\n",
    "print(\"Porcentagem de alunos usuarios que já experimentaram bebidas alcoólicas {:.2f}\".format(porcentagem_int1))\n",
    "print(\"Porcentagem de alunos não usuarios que já experimentaram bebidas alcoólicas {:.2f}\".format(porcentagem_int2))"
   ]
  },
  {
   "cell_type": "markdown",
   "metadata": {},
   "source": [
    "Percebe-se que o consumo de bebidas alcoólicas é relevante para determinar o grupo alvo, por isso, consideramos essa questão para gerar o modelo."
   ]
  },
  {
   "cell_type": "markdown",
   "metadata": {},
   "source": [
    "## Criação do novo data frame "
   ]
  },
  {
   "cell_type": "markdown",
   "metadata": {},
   "source": [
    "Definidas as perguntas relevantes para gerar o modelo, uma novo data frame contendo apenas as informações necessários foi criado."
   ]
  },
  {
   "cell_type": "code",
   "execution_count": 11,
   "metadata": {},
   "outputs": [],
   "source": [
    "selecao3 = (dados_alunos['VB06001'] == 1)|(dados_alunos['VB06001'] == 2)\n",
    "df_dados_alunos_aux = dados_alunos[selecao3]  \n",
    "\n",
    "df_dados_alunos_aux =df_dados_alunos_aux.reset_index()\n",
    "#df_dados_alunos\n",
    "df_dados_alunos = df_dados_alunos_aux[[\"VB01006\",\"VB01007\",'VB01023',\"VB04001\",\"VB05002\",\"VB06001\"]]\n"
   ]
  },
  {
   "cell_type": "code",
   "execution_count": 12,
   "metadata": {},
   "outputs": [],
   "source": [
    "df_dados_alunos.columns = ['Ausência materna','Ausência paterna',\"Estudo Integral\",\"Consumo de tabaco\",\"Consumo alcoólico\",\"Fez uso de drogas?\"]"
   ]
  },
  {
   "cell_type": "code",
   "execution_count": 15,
   "metadata": {},
   "outputs": [
    {
     "data": {
      "text/html": [
       "<div>\n",
       "<style scoped>\n",
       "    .dataframe tbody tr th:only-of-type {\n",
       "        vertical-align: middle;\n",
       "    }\n",
       "\n",
       "    .dataframe tbody tr th {\n",
       "        vertical-align: top;\n",
       "    }\n",
       "\n",
       "    .dataframe thead th {\n",
       "        text-align: right;\n",
       "    }\n",
       "</style>\n",
       "<table border=\"1\" class=\"dataframe\">\n",
       "  <thead>\n",
       "    <tr style=\"text-align: right;\">\n",
       "      <th></th>\n",
       "      <th>Ausência materna</th>\n",
       "      <th>Ausência paterna</th>\n",
       "      <th>Estudo Integral</th>\n",
       "      <th>Consumo de tabaco</th>\n",
       "      <th>Consumo alcoólico</th>\n",
       "      <th>Fez uso de drogas?</th>\n",
       "    </tr>\n",
       "  </thead>\n",
       "  <tbody>\n",
       "    <tr>\n",
       "      <th>0</th>\n",
       "      <td>1</td>\n",
       "      <td>2</td>\n",
       "      <td>2</td>\n",
       "      <td>2</td>\n",
       "      <td>1</td>\n",
       "      <td>2</td>\n",
       "    </tr>\n",
       "    <tr>\n",
       "      <th>1</th>\n",
       "      <td>1</td>\n",
       "      <td>1</td>\n",
       "      <td>1</td>\n",
       "      <td>2</td>\n",
       "      <td>2</td>\n",
       "      <td>2</td>\n",
       "    </tr>\n",
       "    <tr>\n",
       "      <th>2</th>\n",
       "      <td>1</td>\n",
       "      <td>1</td>\n",
       "      <td>2</td>\n",
       "      <td>2</td>\n",
       "      <td>2</td>\n",
       "      <td>2</td>\n",
       "    </tr>\n",
       "    <tr>\n",
       "      <th>3</th>\n",
       "      <td>1</td>\n",
       "      <td>2</td>\n",
       "      <td>2</td>\n",
       "      <td>2</td>\n",
       "      <td>1</td>\n",
       "      <td>2</td>\n",
       "    </tr>\n",
       "    <tr>\n",
       "      <th>4</th>\n",
       "      <td>2</td>\n",
       "      <td>1</td>\n",
       "      <td>2</td>\n",
       "      <td>2</td>\n",
       "      <td>2</td>\n",
       "      <td>2</td>\n",
       "    </tr>\n",
       "  </tbody>\n",
       "</table>\n",
       "</div>"
      ],
      "text/plain": [
       "   Ausência materna  Ausência paterna  Estudo Integral  Consumo de tabaco  \\\n",
       "0                 1                 2                2                  2   \n",
       "1                 1                 1                1                  2   \n",
       "2                 1                 1                2                  2   \n",
       "3                 1                 2                2                  2   \n",
       "4                 2                 1                2                  2   \n",
       "\n",
       "   Consumo alcoólico  Fez uso de drogas?  \n",
       "0                  1                   2  \n",
       "1                  2                   2  \n",
       "2                  2                   2  \n",
       "3                  1                   2  \n",
       "4                  2                   2  "
      ]
     },
     "execution_count": 15,
     "metadata": {},
     "output_type": "execute_result"
    }
   ],
   "source": [
    "df_dados_alunos.head()\n"
   ]
  },
  {
   "cell_type": "code",
   "execution_count": 16,
   "metadata": {},
   "outputs": [],
   "source": [
    "df_dados_alunos.to_csv('data_model.csv',index=False) #Salva data frame com as informacoes de interesse em um novo arquivo"
   ]
  },
  {
   "cell_type": "markdown",
   "metadata": {},
   "source": [
    "Assim, para o desenvolvimento do modelo consideramos as variáveis 'Ausência materna','Ausência paterna',\"Consumo de tabaco\",\"Consumo alcoólico\" como X e o Y, a variavel \"Fez uso de drogas?\"."
   ]
  },
  {
   "cell_type": "markdown",
   "metadata": {},
   "source": [
    "## Modelo preditor"
   ]
  },
  {
   "cell_type": "markdown",
   "metadata": {},
   "source": [
    "O modelo preditor é gerado a partir de dois métodos, inferência Baysiana e AdaBoost. Para isso, utiliza-se uma parte dos dados para treinar o modelo. Em seguida, outra parcela dos dados é utilizada para testar os modelos e verificar suas taxas de acerto e, assim, escolher o modelo com maior taxa de acerto. O modelo escolhido é validado com o restante dos dados e sua taxa de acerto é comparada com a taxa de acerto de um modelo \"dummy\". O modelo \"dummy\" chuta para qualquer combinação das variáveis X um valor para Y, ou seja, 1 ou 2."
   ]
  },
  {
   "cell_type": "code",
   "execution_count": 17,
   "metadata": {},
   "outputs": [],
   "source": [
    "X_df = df_dados_alunos[['Ausência materna','Ausência paterna',\"Estudo Integral\",\"Consumo de tabaco\",\"Consumo alcoólico\"]]\n",
    "Y_df = df_dados_alunos['Fez uso de drogas?']\n",
    "X = X_df.values\n",
    "Y = Y_df.values"
   ]
  },
  {
   "cell_type": "code",
   "execution_count": 18,
   "metadata": {},
   "outputs": [],
   "source": [
    "# Treinamento do modelo\n",
    "porcentagem_de_treino = 0.8\n",
    "porcentagem_de_teste = 0.1\n",
    "\n",
    "\n",
    "tamanho_de_treino = int(porcentagem_de_treino * len(Y))\n",
    "tamanho_de_teste = int(porcentagem_de_teste * len(Y))\n",
    "tamanho_de_validacao = len(Y) - tamanho_de_treino - tamanho_de_teste\n",
    "\n",
    "#0 até 81440\n",
    "\n",
    "treino_dados = X[0:tamanho_de_treino]\n",
    "treino_marcacoes = Y[0  :tamanho_de_treino]\n",
    "\n",
    "#81440 até 91620\n",
    "\n",
    "fim_de_teste = tamanho_de_treino + tamanho_de_teste\n",
    "teste_dados = X[tamanho_de_treino:fim_de_teste]\n",
    "teste_marcacoes = Y[tamanho_de_treino:fim_de_teste]\n",
    "\n",
    "#91620 até final\n",
    "validacao_dados = X[fim_de_teste:]\n",
    "validacao_marcacoes = Y[fim_de_teste:]\n",
    "\n"
   ]
  },
  {
   "cell_type": "code",
   "execution_count": 19,
   "metadata": {},
   "outputs": [],
   "source": [
    "def fit_and_predict(nome, modelo, treino_dados, treino_marcacoes, teste_dados, teste_marcacoes):\n",
    "    modelo.fit(treino_dados, treino_marcacoes)\n",
    "\n",
    "    resultado = modelo.predict(teste_dados)\n",
    "    acertos = (resultado == teste_marcacoes)\n",
    "    total_de_acertos = sum(acertos)\n",
    "    total_de_elementos = len(teste_dados)\n",
    "\n",
    "    taxa_de_acerto = 100.0 * total_de_acertos / total_de_elementos\n",
    "\n",
    "    msg = \"Taxa de acerto do algoritmo {0}: {1:.4}\".format(nome, taxa_de_acerto)\n",
    "    print(msg)\n",
    "\n",
    "    return taxa_de_acerto"
   ]
  },
  {
   "cell_type": "code",
   "execution_count": 20,
   "metadata": {},
   "outputs": [
    {
     "name": "stdout",
     "output_type": "stream",
     "text": [
      "Taxa de acerto do algoritmo MultinomialNB: 86.6\n"
     ]
    }
   ],
   "source": [
    "from sklearn.naive_bayes import MultinomialNB\n",
    "modeloMultinomial = MultinomialNB()\n",
    "resultadoMultinomial = fit_and_predict(\"MultinomialNB\", modeloMultinomial, treino_dados, treino_marcacoes, teste_dados, teste_marcacoes)"
   ]
  },
  {
   "cell_type": "code",
   "execution_count": 21,
   "metadata": {},
   "outputs": [
    {
     "name": "stdout",
     "output_type": "stream",
     "text": [
      "Taxa de acerto do algoritmo AdaBoostClassifier: 86.83\n"
     ]
    }
   ],
   "source": [
    "from sklearn.ensemble import AdaBoostClassifier\n",
    "modeloAdaBoost = AdaBoostClassifier()\n",
    "resultadoAdaBoost = fit_and_predict(\"AdaBoostClassifier\", modeloAdaBoost, treino_dados, treino_marcacoes, teste_dados, teste_marcacoes)"
   ]
  },
  {
   "cell_type": "code",
   "execution_count": 22,
   "metadata": {},
   "outputs": [
    {
     "name": "stdout",
     "output_type": "stream",
     "text": [
      "Taxa de acerto do vencedor entre os dois algoritmos no mundo real: 88.8\n"
     ]
    }
   ],
   "source": [
    "if resultadoMultinomial > resultadoAdaBoost:\n",
    "    vencedor = modeloMultinomial\n",
    "else:\n",
    "    vencedor = modeloAdaBoost\n",
    "\n",
    "resultado = vencedor.predict(validacao_dados)\n",
    "acertos = (resultado == validacao_marcacoes)\n",
    "total_de_acertos = sum(acertos)\n",
    "total_de_elementos = len(validacao_marcacoes)\n",
    "taxa_de_acerto = 100.0 * total_de_acertos / total_de_elementos\n",
    "\n",
    "msg = \"Taxa de acerto do vencedor entre os dois algoritmos no mundo real: {0:.3}\".format(taxa_de_acerto)\n",
    "print(msg)"
   ]
  },
  {
   "cell_type": "markdown",
   "metadata": {},
   "source": [
    "No entanto, não basta analisar somente a taxa de acerto do modelo obtido. É interessante comparar a taxa de acerto do nosso modelo como um modelo mais simples, o modelo \"dummy\". O modelo \"dummy\" escolhe sempre o mesmo valor para variável Y independente da combinação de respostas de X."
   ]
  },
  {
   "cell_type": "code",
   "execution_count": 23,
   "metadata": {},
   "outputs": [
    {
     "name": "stdout",
     "output_type": "stream",
     "text": [
      "Taxa de acerto base: 88.781925\n",
      "Total de teste: 10180\n"
     ]
    }
   ],
   "source": [
    "# A eficácia do algoritmo que chuta tudo um único valor\n",
    "\n",
    "acerto_base = max(Counter(validacao_marcacoes).values()) #Busca o valor (1 ou 2) que aparece mais.\n",
    "taxa_de_acerto_base = 100.0 * acerto_base / len(validacao_marcacoes)\n",
    "print(\"Taxa de acerto base: %f\" % taxa_de_acerto_base)\n",
    "\n",
    "total_de_elementos = len(validacao_dados)\n",
    "print(\"Total de teste: %d\" % total_de_elementos)\n",
    "\n"
   ]
  },
  {
   "cell_type": "markdown",
   "metadata": {},
   "source": [
    "# Conclusão"
   ]
  },
  {
   "cell_type": "markdown",
   "metadata": {},
   "source": [
    "A análise exploratória de dados iniciais mostrou que o consumo de cigarro e bebidas alcoólicas são mais frequentes em alunos que declararam o uso de drogas ilícitas\n",
    "\n",
    "Embora o resultado do modelo preditor tenha obtido uma alta taxa de acerto, o resultado do modelo preditor baseado no método de Ada Boost foi equivalente ao modelo \"dummy\". Isto é justificado pois há um número muito maior de alunos que não declararam o uso de drogas. Portanto, dados com distribuição homogênea entre alunos usuários e não usuários devem ser utilizados para comparar o modelo desenvolvido com o modelo 'dummy'. O ideal é que o modelo dummy acerte em torno de 50% em um problema de classificação, pois assim, mostra que os dados não estão tendenciosos, ou seja, há uma distribuição uniforme dos dados.\n",
    "\n"
   ]
  },
  {
   "cell_type": "code",
   "execution_count": null,
   "metadata": {},
   "outputs": [],
   "source": []
  },
  {
   "cell_type": "code",
   "execution_count": null,
   "metadata": {},
   "outputs": [],
   "source": []
  },
  {
   "cell_type": "code",
   "execution_count": null,
   "metadata": {},
   "outputs": [],
   "source": []
  }
 ],
 "metadata": {
  "kernelspec": {
   "display_name": "Python 3",
   "language": "python",
   "name": "python3"
  },
  "language_info": {
   "codemirror_mode": {
    "name": "ipython",
    "version": 3
   },
   "file_extension": ".py",
   "mimetype": "text/x-python",
   "name": "python",
   "nbconvert_exporter": "python",
   "pygments_lexer": "ipython3",
   "version": "3.6.5"
  }
 },
 "nbformat": 4,
 "nbformat_minor": 2
}
